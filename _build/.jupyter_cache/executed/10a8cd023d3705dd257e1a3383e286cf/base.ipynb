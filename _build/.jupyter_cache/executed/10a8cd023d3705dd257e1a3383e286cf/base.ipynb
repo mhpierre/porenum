{
 "cells": [
  {
   "cell_type": "code",
   "execution_count": 1,
   "id": "47fc89e5-e180-464b-9d2a-9fd6711e5f23",
   "metadata": {},
   "outputs": [],
   "source": [
    "import numpy as np\n",
    "\n",
    "def mandel_to_tensor2(T):\n",
    "    assert T.shape==(6,)\n",
    "    return np.array([[T[0], T[5]/np.sqrt(2), T[4]/np.sqrt(2)],\n",
    "                     [T[5]/np.sqrt(2), T[1], T[3]/np.sqrt(2)],\n",
    "                     [T[4]/np.sqrt(2), T[3]/np.sqrt(2), T[2]]])\n",
    "\n",
    "def tensor2_to_mandel(T):\n",
    "    assert T.shape==(3,3)\n",
    "    assert T[0,1]==T[1,0] and T[0,2]==T[2,0] and T[1,2]==T[2,1]\n",
    "    return np.array([T[0,0], T[1,1], T[2,2], np.sqrt(2)*T[1,2], np.sqrt(2)*T[0,2], np.sqrt(2)*T[0,1]])\n",
    "\n",
    "def lame(E, nu):\n",
    "    return E*nu/((1+nu)*(1-2*nu)), E/2/(1+nu)\n",
    "\n",
    "def stiffness_tensor(lam, mu):\n",
    "    D = np.zeros((6,6))\n",
    "    for i in range(3):\n",
    "        for j in range(3):\n",
    "            D[i,j]+=lam\n",
    "    for i in range(6):\n",
    "        D[i,i]+=2*mu\n",
    "    return D\n"
   ]
  },
  {
   "cell_type": "code",
   "execution_count": 2,
   "id": "47e167d2-ecf7-4f3b-8064-4d41faf6fd7c",
   "metadata": {},
   "outputs": [],
   "source": [
    "E = 1e10\n",
    "nu = 0.2\n",
    "eps = np.array([[-1e-3, 0.0, 5e-4],\n",
    "                [0.0, -1e-3, 5e-4],\n",
    "                [5e-4, 5e-4, 0.0]])\n",
    "\n",
    "eps_M = tensor2_to_mandel(eps)\n",
    "C = stiffness_tensor(*lame(E,nu))\n",
    "sig_M = np.dot(C, eps_M)\n",
    "sig = mandel_to_tensor2(sig_M)"
   ]
  },
  {
   "cell_type": "code",
   "execution_count": 3,
   "id": "d435b7aa-2459-4c32-b023-d282641fc009",
   "metadata": {},
   "outputs": [
    {
     "data": {
      "text/plain": [
       "array([[-13888888.88888889,         0.        ,   4166666.66666667],\n",
       "       [        0.        , -13888888.88888889,   4166666.66666667],\n",
       "       [  4166666.66666667,   4166666.66666667,  -5555555.55555556]])"
      ]
     },
     "execution_count": 3,
     "metadata": {},
     "output_type": "execute_result"
    }
   ],
   "source": [
    "sig"
   ]
  },
  {
   "cell_type": "code",
   "execution_count": null,
   "id": "31a26d41-1dd8-4205-9f55-3a43ad54642a",
   "metadata": {},
   "outputs": [],
   "source": []
  }
 ],
 "metadata": {
  "kernelspec": {
   "display_name": "Python 3 (ipykernel)",
   "language": "python",
   "name": "python3"
  },
  "language_info": {
   "codemirror_mode": {
    "name": "ipython",
    "version": 3
   },
   "file_extension": ".py",
   "mimetype": "text/x-python",
   "name": "python",
   "nbconvert_exporter": "python",
   "pygments_lexer": "ipython3",
   "version": "3.13.1"
  }
 },
 "nbformat": 4,
 "nbformat_minor": 5
}